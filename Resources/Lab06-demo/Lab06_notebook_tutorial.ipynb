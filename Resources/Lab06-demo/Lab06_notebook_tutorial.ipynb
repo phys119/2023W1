{
 "cells": [
  {
   "attachments": {},
   "cell_type": "markdown",
   "id": "2c32fb06-bb63-49c1-aa51-125a423b0747",
   "metadata": {},
   "source": [
    "# Lab 06 notebook tutorial"
   ]
  },
  {
   "cell_type": "code",
   "execution_count": null,
   "id": "be5b35ac-3c4e-42d4-b63a-46d7c26153a6",
   "metadata": {},
   "outputs": [],
   "source": [
    "import data_entry2\n",
    "import numpy as np\n",
    "import matplotlib.pyplot as plt"
   ]
  },
  {
   "cell_type": "code",
   "execution_count": null,
   "id": "f1759948-cdb0-4a74-8d7b-3a78feead5c5",
   "metadata": {},
   "outputs": [],
   "source": [
    "de = data_entry2.sheet(\"lab05_prelab_data1\")"
   ]
  },
  {
   "cell_type": "code",
   "execution_count": null,
   "id": "79e47a00-266f-48be-98c4-f036fc5cff84",
   "metadata": {},
   "outputs": [],
   "source": [
    "# Step 1: find the limits of the data:\n",
    "xmin = np.min(dxVec) # use the np.min function to find the smallest x value\n",
    "xmax = np.max(dxVec) # same for max\n",
    "# print (xmin, xmax)  # uncomment to see what the limits are\n",
    "\n",
    "# Step 2: generate a bunch of x points between xmin and xmax\n",
    "xpoints = np.linspace(xmin, xmax, 200) # gives 200 evenly spaced points between xmin and xmax\n",
    "# print(xpoints) # uncomment to see the x values that were generated.\n",
    "\n",
    "# Step 3: calculate the model values given your input to the slope:\n",
    "slope = 2.3 # Your estimate of the slope.\n",
    "ypoints = xpoints * slope # this calculates the yvalues at all 200 points.\n",
    "\n",
    "# Step 4: plot the curve. We plot this as a red line \"r-\" :\n",
    "plt.plot(xpoints, ypoints, \"r-\", label = \"F = kx\")\n",
    "\n",
    "# Let's plot our data with the model:\n",
    "plt.errorbar(dxVec, FVec, uFVec, fmt=\"bo\", markersize = 3, label=\"Experimental data\")\n",
    "plt.title(\"Force vs. Displacement for spring\")\n",
    "plt.xlabel(\"Displacement of spring from equilibrium (m)\")\n",
    "plt.ylabel(\"Force (N)\")\n",
    "plt.legend()\n",
    "plt.show()\n",
    "\n",
    "#Residuals Plot\n",
    "# Step 1: Calculate the model at each x-datapoint\n",
    "ymodel = slope * dxVec # y = mx at each x_i\n",
    "\n",
    "# Step 2: Calculate the residual vector\n",
    "RVec = FVec - ymodel\n",
    "\n",
    "# Step 3: Plot the residual vector against the x-data vector\n",
    "plt.errorbar(dxVec, RVec, uFVec, fmt=\"bo\", markersize = 3)\n",
    "\n",
    "# Step 4: Add a R = 0 x-axis (horizontal line) to the plot\n",
    "plt.hlines(y=0, xmin=xmin, xmax=xmax, color='k') # draw axis at y = 0.\n",
    "\n",
    "# Add axis labels and title, and show the graph\n",
    "plt.title(\"Residuals for Force vs. displacement for spring\")\n",
    "plt.xlabel(\"Displacement (m)\")\n",
    "plt.ylabel(\"Residual = data - model (N)\")\n",
    "plt.show()\n",
    "\n",
    "# Calculate chi-squared \n",
    "chi2 = np.sum((RVec/uFVec)**2)/(len(RVec)-1)\n",
    "print (\"Weighted chi-squared: \", chi2)\n",
    "\n"
   ]
  },
  {
   "cell_type": "code",
   "execution_count": null,
   "id": "1eb22723-2b5b-4482-9048-65c937f98bee",
   "metadata": {},
   "outputs": [],
   "source": [
    "dec = data_entry2.sheet('chi2-1')"
   ]
  },
  {
   "attachments": {},
   "cell_type": "markdown",
   "id": "e81b32e1-9d7f-4eed-a638-02fea2b9a862",
   "metadata": {
    "jp-MarkdownHeadingCollapsed": true,
    "tags": []
   },
   "source": [
    "### Best estimate for slope:"
   ]
  },
  {
   "attachments": {},
   "cell_type": "markdown",
   "id": "f29535a9",
   "metadata": {},
   "source": [
    "The best estimate of your slope will be the one you find above that has the lowest chi-squared.\n",
    "The best estimate of your uncertainties on the slope will be the difference between best fit and the slope when chi-squared is +1 larger than your best fit."
   ]
  },
  {
   "attachments": {},
   "cell_type": "markdown",
   "id": "6e1c86b1-46d3-4972-a276-3e3da5951cd4",
   "metadata": {},
   "source": [
    "Best estimate of the slope is 2.100 $\\pm$ 0.10."
   ]
  },
  {
   "cell_type": "code",
   "execution_count": null,
   "id": "0413cde8",
   "metadata": {},
   "outputs": [],
   "source": []
  }
 ],
 "metadata": {
  "kernelspec": {
   "display_name": "Python 3 (ipykernel)",
   "language": "python",
   "name": "python3"
  },
  "language_info": {
   "codemirror_mode": {
    "name": "ipython",
    "version": 3
   },
   "file_extension": ".py",
   "mimetype": "text/x-python",
   "name": "python",
   "nbconvert_exporter": "python",
   "pygments_lexer": "ipython3",
   "version": "3.11.5"
  },
  "widgets": {
   "application/vnd.jupyter.widget-state+json": {
    "state": {
     "012048cf0caa48328c4271fe4fc075b0": {
      "model_module": "ipysheet",
      "model_module_version": "~0.5.0",
      "model_name": "CellRangeModel",
      "state": {
       "_view_module": null,
       "_view_module_version": "",
       "row_end": 7,
       "row_start": 7,
       "type": "text",
       "value": "0.01"
      }
     },
     "01e95ea2bef64e888a7350e5cd118ab6": {
      "model_module": "ipysheet",
      "model_module_version": "~0.5.0",
      "model_name": "CellRangeModel",
      "state": {
       "_view_module": null,
       "_view_module_version": "",
       "column_end": 0,
       "column_start": 0,
       "row_end": 0,
       "row_start": 0,
       "type": "text",
       "value": "dx"
      }
     },
     "082ff5e64e6744899e8c5a09422147dd": {
      "model_module": "@jupyter-widgets/base",
      "model_module_version": "1.2.0",
      "model_name": "LayoutModel",
      "state": {}
     },
     "08364dd5e3234234abac84d5c4966605": {
      "model_module": "ipysheet",
      "model_module_version": "~0.5.0",
      "model_name": "CellRangeModel",
      "state": {
       "_view_module": null,
       "_view_module_version": "",
       "row_end": 6,
       "row_start": 6,
       "type": "text",
       "value": "0.01"
      }
     },
     "11d286a49f2d4280b97432b455ad3a6b": {
      "model_module": "@jupyter-widgets/controls",
      "model_module_version": "1.5.0",
      "model_name": "HBoxModel",
      "state": {
       "children": [
        "IPY_MODEL_81f568dae771441a83590d4b24974eea",
        "IPY_MODEL_398ab0d28117416e8345d5e6930dcb0c",
        "IPY_MODEL_f9d5caa653ff40398ffa4fb58e58a20d",
        "IPY_MODEL_a0e73b7605854cb1875d5c08b73d13ea",
        "IPY_MODEL_a6e172d5a0c9445d8a45c4235af95de8"
       ],
       "layout": "IPY_MODEL_4f79c2e1ab7e42f087098eee3c25e87f"
      }
     },
     "129cfaf5ba89422788cdd0aad866fcab": {
      "model_module": "ipysheet",
      "model_module_version": "~0.5.0",
      "model_name": "SheetModel",
      "state": {
       "cells": [
        "IPY_MODEL_01e95ea2bef64e888a7350e5cd118ab6",
        "IPY_MODEL_72ec2d663ddc4f42a2dd4fe2780d3bae",
        "IPY_MODEL_c424bd1150d54b629f45e310e6ec093d",
        "IPY_MODEL_7babc12f1ddd4279ad845c641324b1c8",
        "IPY_MODEL_fa256eced04349f68c1b81eb2f191620",
        "IPY_MODEL_21417c801db54f05b0ac57e3f22b0cfb",
        "IPY_MODEL_7a83e1770bf04388aac9d27632a14ddc",
        "IPY_MODEL_39cc0534a34b44bbac908c50b3bcf58f",
        "IPY_MODEL_3bb8b20cb2c84050b1dd8356776a70f2",
        "IPY_MODEL_87d1572a5da84c019e312daa0df5e753",
        "IPY_MODEL_2e19ed3cb4424584ad31c67dde89631b",
        "IPY_MODEL_88da541ac08a464e979e7dc381615ba5",
        "IPY_MODEL_35bc485566274fe09b164d12510aa41f",
        "IPY_MODEL_51f4f8e519b749a185ab1d944bf90aba",
        "IPY_MODEL_eddd1ea30a374b47926e8cc92df81fc1",
        "IPY_MODEL_a62f31c0f7f947d287f27aca7bfac15c",
        "IPY_MODEL_d50a14be92cd419889d6e15b9c6a899a",
        "IPY_MODEL_5334c2f7161f40369e7877cbb9347a2a",
        "IPY_MODEL_58222fc818084931b847f002555c1513",
        "IPY_MODEL_8596fafbe92444b3b715c4ddfefba16d",
        "IPY_MODEL_4257b13172d942e8bbd815424a449d09",
        "IPY_MODEL_bc5a02e66da74ed0b7ba85bef167c604",
        "IPY_MODEL_bf269f931cd24af190cba9e14a4f0089",
        "IPY_MODEL_e017d43c8f2e4122a66a63c5ce1e125d",
        "IPY_MODEL_b570b478bf094e9395a7b33d4fb0bad3",
        "IPY_MODEL_08364dd5e3234234abac84d5c4966605",
        "IPY_MODEL_23972afa4491423bb71f86f6c865038d",
        "IPY_MODEL_a7222945f983466ea817973346031221",
        "IPY_MODEL_58eeafebd08844e5a6824c47e3b1e0f6",
        "IPY_MODEL_012048cf0caa48328c4271fe4fc075b0",
        "IPY_MODEL_bfc7a3aad0a94514b166f851fe50f80e",
        "IPY_MODEL_1fca37f132054be796de1e30a83d03ef",
        "IPY_MODEL_2b580aeb9bcc41c49419bd2102836f67",
        "IPY_MODEL_b571f912bc694c3ebf00ceb32826f374",
        "IPY_MODEL_5eb412dd85e243f29cdc6939ef9f640c",
        "IPY_MODEL_a985703b8c3d42dea2fc9e7f3e90776e"
       ],
       "column_headers": false,
       "layout": "IPY_MODEL_ac37467d95ac4e7e8ab0e479734e9571",
       "row_headers": [
        "Variable:",
        "Units:",
        "0",
        "1",
        "2",
        "3",
        "4",
        "5",
        "6"
       ],
       "rows": 9
      }
     },
     "14e1e981b0604dd586ba43ef3818cfe9": {
      "model_module": "@jupyter-widgets/controls",
      "model_module_version": "1.5.0",
      "model_name": "ButtonModel",
      "state": {
       "description": "Add Row",
       "layout": "IPY_MODEL_98310417c6ff4b8585b1317f61f34ac0",
       "style": "IPY_MODEL_612d4377fe0044a790c00e9f5901b98c"
      }
     },
     "1ab88bbec6fb48c2869cc7c6e23352cc": {
      "model_module": "@jupyter-widgets/base",
      "model_module_version": "1.2.0",
      "model_name": "LayoutModel",
      "state": {}
     },
     "1fca37f132054be796de1e30a83d03ef": {
      "model_module": "ipysheet",
      "model_module_version": "~0.5.0",
      "model_name": "CellRangeModel",
      "state": {
       "_view_module": null,
       "_view_module_version": "",
       "column_end": 3,
       "column_start": 3,
       "row_end": 7,
       "row_start": 7,
       "type": "text",
       "value": "0.04"
      }
     },
     "21417c801db54f05b0ac57e3f22b0cfb": {
      "model_module": "ipysheet",
      "model_module_version": "~0.5.0",
      "model_name": "CellRangeModel",
      "state": {
       "_view_module": null,
       "_view_module_version": "",
       "type": "text",
       "value": "m"
      }
     },
     "22ba77f0940b405abb35475aac191a52": {
      "model_module": "@jupyter-widgets/output",
      "model_module_version": "1.0.0",
      "model_name": "OutputModel",
      "state": {
       "layout": "IPY_MODEL_1ab88bbec6fb48c2869cc7c6e23352cc",
       "outputs": [
        {
         "data": {
          "text/html": "<div>\n<style scoped>\n    .dataframe tbody tr th:only-of-type {\n        vertical-align: middle;\n    }\n\n    .dataframe tbody tr th {\n        vertical-align: top;\n    }\n\n    .dataframe thead th {\n        text-align: right;\n    }\n</style>\n<table border=\"1\" class=\"dataframe\">\n  <thead>\n    <tr style=\"text-align: right;\">\n      <th></th>\n      <th>dx</th>\n      <th>u[dx]</th>\n      <th>F</th>\n      <th>u[F]</th>\n    </tr>\n  </thead>\n  <tbody>\n    <tr>\n      <th>Units</th>\n      <td>m</td>\n      <td>m</td>\n      <td>N</td>\n      <td>N</td>\n    </tr>\n    <tr>\n      <th>0</th>\n      <td>0</td>\n      <td>0.01</td>\n      <td>0</td>\n      <td>0.02</td>\n    </tr>\n    <tr>\n      <th>1</th>\n      <td>0.12</td>\n      <td>0.01</td>\n      <td>0.26</td>\n      <td>0.02</td>\n    </tr>\n    <tr>\n      <th>2</th>\n      <td>0.21</td>\n      <td>0.01</td>\n      <td>0.43</td>\n      <td>0.03</td>\n    </tr>\n    <tr>\n      <th>3</th>\n      <td>0.29</td>\n      <td>0.01</td>\n      <td>0.63</td>\n      <td>0.03</td>\n    </tr>\n    <tr>\n      <th>4</th>\n      <td>0.40</td>\n      <td>0.01</td>\n      <td>0.81</td>\n      <td>0.03</td>\n    </tr>\n    <tr>\n      <th>5</th>\n      <td>0.48</td>\n      <td>0.01</td>\n      <td>1.05</td>\n      <td>0.04</td>\n    </tr>\n    <tr>\n      <th>6</th>\n      <td>0.60</td>\n      <td>0.01</td>\n      <td>1.23</td>\n      <td>0.04</td>\n    </tr>\n  </tbody>\n</table>\n</div>",
          "text/plain": "         dx u[dx]     F  u[F]\nUnits     m     m     N     N\n0         0  0.01     0  0.02\n1      0.12  0.01  0.26  0.02\n2      0.21  0.01  0.43  0.03\n3      0.29  0.01  0.63  0.03\n4      0.40  0.01  0.81  0.03\n5      0.48  0.01  1.05  0.04\n6      0.60  0.01  1.23  0.04"
         },
         "metadata": {},
         "output_type": "display_data"
        }
       ]
      }
     },
     "23972afa4491423bb71f86f6c865038d": {
      "model_module": "ipysheet",
      "model_module_version": "~0.5.0",
      "model_name": "CellRangeModel",
      "state": {
       "_view_module": null,
       "_view_module_version": "",
       "column_end": 2,
       "column_start": 2,
       "row_end": 6,
       "row_start": 6,
       "type": "text",
       "value": "0.81"
      }
     },
     "2737e462a5af465fbb58b210f9d97439": {
      "model_module": "@jupyter-widgets/base",
      "model_module_version": "1.2.0",
      "model_name": "LayoutModel",
      "state": {}
     },
     "27eb714795e440f4bf9654de4e3b3d2c": {
      "model_module": "@jupyter-widgets/controls",
      "model_module_version": "1.5.0",
      "model_name": "ButtonStyleModel",
      "state": {}
     },
     "2b580aeb9bcc41c49419bd2102836f67": {
      "model_module": "ipysheet",
      "model_module_version": "~0.5.0",
      "model_name": "CellRangeModel",
      "state": {
       "_view_module": null,
       "_view_module_version": "",
       "column_end": 0,
       "column_start": 0,
       "row_end": 8,
       "row_start": 8,
       "type": "text",
       "value": "0.60"
      }
     },
     "2e19ed3cb4424584ad31c67dde89631b": {
      "model_module": "ipysheet",
      "model_module_version": "~0.5.0",
      "model_name": "CellRangeModel",
      "state": {
       "_view_module": null,
       "_view_module_version": "",
       "column_end": 2,
       "column_start": 2,
       "row_end": 2,
       "row_start": 2,
       "type": "text",
       "value": "0"
      }
     },
     "31c18e6ce7db4509b9cbcdb6b7967c79": {
      "model_module": "@jupyter-widgets/controls",
      "model_module_version": "1.5.0",
      "model_name": "ButtonModel",
      "state": {
       "description": "Add Column",
       "layout": "IPY_MODEL_87f3d0c1d9f24daaa0a58c4614cc8d7b",
       "style": "IPY_MODEL_27eb714795e440f4bf9654de4e3b3d2c"
      }
     },
     "35bc485566274fe09b164d12510aa41f": {
      "model_module": "ipysheet",
      "model_module_version": "~0.5.0",
      "model_name": "CellRangeModel",
      "state": {
       "_view_module": null,
       "_view_module_version": "",
       "column_end": 0,
       "column_start": 0,
       "row_end": 3,
       "row_start": 3,
       "type": "text",
       "value": "0.12"
      }
     },
     "398ab0d28117416e8345d5e6930dcb0c": {
      "model_module": "@jupyter-widgets/controls",
      "model_module_version": "1.5.0",
      "model_name": "ButtonModel",
      "state": {
       "description": "Redo",
       "layout": "IPY_MODEL_700acc0e05344b64983fe7f1a3a40ddf",
       "style": "IPY_MODEL_7b1cc0a0568942efb5a3e746c61e5540"
      }
     },
     "39cc0534a34b44bbac908c50b3bcf58f": {
      "model_module": "ipysheet",
      "model_module_version": "~0.5.0",
      "model_name": "CellRangeModel",
      "state": {
       "_view_module": null,
       "_view_module_version": "",
       "column_end": 3,
       "column_start": 3,
       "type": "text",
       "value": "N"
      }
     },
     "3a1240f355b94a039379a5ca20d07dd5": {
      "model_module": "ipysheet",
      "model_module_version": "~0.5.0",
      "model_name": "CellRangeModel",
      "state": {
       "_view_module": null,
       "_view_module_version": "",
       "row_end": 0,
       "row_start": 0,
       "type": "text",
       "value": "chi2"
      }
     },
     "3bb8b20cb2c84050b1dd8356776a70f2": {
      "model_module": "ipysheet",
      "model_module_version": "~0.5.0",
      "model_name": "CellRangeModel",
      "state": {
       "_view_module": null,
       "_view_module_version": "",
       "column_end": 0,
       "column_start": 0,
       "row_end": 2,
       "row_start": 2,
       "type": "text",
       "value": "0"
      }
     },
     "3e78ff61d3d146dbbab2cb1f46e0892d": {
      "model_module": "ipysheet",
      "model_module_version": "~0.5.0",
      "model_name": "CellRangeModel",
      "state": {
       "_view_module": null,
       "_view_module_version": "",
       "column_end": 0,
       "column_start": 0,
       "row_end": 0,
       "row_start": 0,
       "type": "text",
       "value": "slope"
      }
     },
     "4077ca18fdec48fcaaf6f76216b557c2": {
      "model_module": "@jupyter-widgets/controls",
      "model_module_version": "1.5.0",
      "model_name": "VBoxModel",
      "state": {
       "children": [
        "IPY_MODEL_129cfaf5ba89422788cdd0aad866fcab",
        "IPY_MODEL_bbb12c52ebd34e73a1be7bec984b9e12",
        "IPY_MODEL_22ba77f0940b405abb35475aac191a52"
       ],
       "layout": "IPY_MODEL_cf2d89c6aa984d5cbdade32150879a97"
      }
     },
     "4257b13172d942e8bbd815424a449d09": {
      "model_module": "ipysheet",
      "model_module_version": "~0.5.0",
      "model_name": "CellRangeModel",
      "state": {
       "_view_module": null,
       "_view_module_version": "",
       "column_end": 0,
       "column_start": 0,
       "row_end": 5,
       "row_start": 5,
       "type": "text",
       "value": "0.29"
      }
     },
     "44c65767ec1b474092009196820e037d": {
      "model_module": "ipysheet",
      "model_module_version": "~0.5.0",
      "model_name": "CellRangeModel",
      "state": {
       "_view_module": null,
       "_view_module_version": "",
       "column_end": 0,
       "column_start": 0,
       "row_end": 2,
       "row_start": 2,
       "type": "text",
       "value": "2.3"
      }
     },
     "4d176955d0f64b6787c71c4135e40ed9": {
      "model_module": "@jupyter-widgets/base",
      "model_module_version": "1.2.0",
      "model_name": "LayoutModel",
      "state": {}
     },
     "4f79c2e1ab7e42f087098eee3c25e87f": {
      "model_module": "@jupyter-widgets/base",
      "model_module_version": "1.2.0",
      "model_name": "LayoutModel",
      "state": {}
     },
     "51f4f8e519b749a185ab1d944bf90aba": {
      "model_module": "ipysheet",
      "model_module_version": "~0.5.0",
      "model_name": "CellRangeModel",
      "state": {
       "_view_module": null,
       "_view_module_version": "",
       "row_end": 3,
       "row_start": 3,
       "type": "text",
       "value": "0.01"
      }
     },
     "5334c2f7161f40369e7877cbb9347a2a": {
      "model_module": "ipysheet",
      "model_module_version": "~0.5.0",
      "model_name": "CellRangeModel",
      "state": {
       "_view_module": null,
       "_view_module_version": "",
       "row_end": 4,
       "row_start": 4,
       "type": "text",
       "value": "0.01"
      }
     },
     "58222fc818084931b847f002555c1513": {
      "model_module": "ipysheet",
      "model_module_version": "~0.5.0",
      "model_name": "CellRangeModel",
      "state": {
       "_view_module": null,
       "_view_module_version": "",
       "column_end": 2,
       "column_start": 2,
       "row_end": 4,
       "row_start": 4,
       "type": "text",
       "value": "0.43"
      }
     },
     "58eeafebd08844e5a6824c47e3b1e0f6": {
      "model_module": "ipysheet",
      "model_module_version": "~0.5.0",
      "model_name": "CellRangeModel",
      "state": {
       "_view_module": null,
       "_view_module_version": "",
       "column_end": 0,
       "column_start": 0,
       "row_end": 7,
       "row_start": 7,
       "type": "text",
       "value": "0.48"
      }
     },
     "5eb412dd85e243f29cdc6939ef9f640c": {
      "model_module": "ipysheet",
      "model_module_version": "~0.5.0",
      "model_name": "CellRangeModel",
      "state": {
       "_view_module": null,
       "_view_module_version": "",
       "column_end": 2,
       "column_start": 2,
       "row_end": 8,
       "row_start": 8,
       "type": "text",
       "value": "1.23"
      }
     },
     "612d4377fe0044a790c00e9f5901b98c": {
      "model_module": "@jupyter-widgets/controls",
      "model_module_version": "1.5.0",
      "model_name": "ButtonStyleModel",
      "state": {}
     },
     "6245fe25066244bbbc8a15ccd4141fe4": {
      "model_module": "ipysheet",
      "model_module_version": "~0.5.0",
      "model_name": "CellRangeModel",
      "state": {
       "_view_module": null,
       "_view_module_version": "",
       "column_end": 0,
       "column_start": 0,
       "type": "text",
       "value": ""
      }
     },
     "6633f955d9e946d7b4c10be2c01571e9": {
      "model_module": "@jupyter-widgets/controls",
      "model_module_version": "1.5.0",
      "model_name": "ButtonModel",
      "state": {
       "description": "Redo",
       "layout": "IPY_MODEL_4d176955d0f64b6787c71c4135e40ed9",
       "style": "IPY_MODEL_bb2d617e59094171a3d16d711d795e3e"
      }
     },
     "68bae006e5134573aa2b5051cc7d7b96": {
      "model_module": "@jupyter-widgets/controls",
      "model_module_version": "1.5.0",
      "model_name": "ButtonStyleModel",
      "state": {}
     },
     "6cb2d40aaead458fa0551afbd53603d7": {
      "model_module": "@jupyter-widgets/controls",
      "model_module_version": "1.5.0",
      "model_name": "ButtonStyleModel",
      "state": {}
     },
     "700acc0e05344b64983fe7f1a3a40ddf": {
      "model_module": "@jupyter-widgets/base",
      "model_module_version": "1.2.0",
      "model_name": "LayoutModel",
      "state": {}
     },
     "72ec2d663ddc4f42a2dd4fe2780d3bae": {
      "model_module": "ipysheet",
      "model_module_version": "~0.5.0",
      "model_name": "CellRangeModel",
      "state": {
       "_view_module": null,
       "_view_module_version": "",
       "row_end": 0,
       "row_start": 0,
       "type": "text",
       "value": "u[dx]"
      }
     },
     "73388aff57d74e07aeb3e92cb9a786fd": {
      "model_module": "@jupyter-widgets/base",
      "model_module_version": "1.2.0",
      "model_name": "LayoutModel",
      "state": {}
     },
     "781056ba4f9c41be921343d9a1b6c483": {
      "model_module": "@jupyter-widgets/base",
      "model_module_version": "1.2.0",
      "model_name": "LayoutModel",
      "state": {}
     },
     "7a83e1770bf04388aac9d27632a14ddc": {
      "model_module": "ipysheet",
      "model_module_version": "~0.5.0",
      "model_name": "CellRangeModel",
      "state": {
       "_view_module": null,
       "_view_module_version": "",
       "column_end": 2,
       "column_start": 2,
       "type": "text",
       "value": "N"
      }
     },
     "7b1cc0a0568942efb5a3e746c61e5540": {
      "model_module": "@jupyter-widgets/controls",
      "model_module_version": "1.5.0",
      "model_name": "ButtonStyleModel",
      "state": {}
     },
     "7babc12f1ddd4279ad845c641324b1c8": {
      "model_module": "ipysheet",
      "model_module_version": "~0.5.0",
      "model_name": "CellRangeModel",
      "state": {
       "_view_module": null,
       "_view_module_version": "",
       "column_end": 3,
       "column_start": 3,
       "row_end": 0,
       "row_start": 0,
       "type": "text",
       "value": "u[F]"
      }
     },
     "7c26cc616a5e4b668e4ffd229bd140c2": {
      "model_module": "@jupyter-widgets/controls",
      "model_module_version": "1.5.0",
      "model_name": "ButtonModel",
      "state": {
       "description": "Generate Vectors",
       "layout": "IPY_MODEL_f3f35c1b971b46e2bc47a2a945d5e20b",
       "style": "IPY_MODEL_f470a8d1ae944a4f99e0006fd15ff00e"
      }
     },
     "81f568dae771441a83590d4b24974eea": {
      "model_module": "@jupyter-widgets/controls",
      "model_module_version": "1.5.0",
      "model_name": "ButtonModel",
      "state": {
       "description": "Undo",
       "layout": "IPY_MODEL_c1e8539c03fa4795ab080be99f361548",
       "style": "IPY_MODEL_cbe898fd5cec498185198c72c16d5f6e"
      }
     },
     "8596fafbe92444b3b715c4ddfefba16d": {
      "model_module": "ipysheet",
      "model_module_version": "~0.5.0",
      "model_name": "CellRangeModel",
      "state": {
       "_view_module": null,
       "_view_module_version": "",
       "column_end": 3,
       "column_start": 3,
       "row_end": 4,
       "row_start": 4,
       "type": "text",
       "value": "0.03"
      }
     },
     "87d1572a5da84c019e312daa0df5e753": {
      "model_module": "ipysheet",
      "model_module_version": "~0.5.0",
      "model_name": "CellRangeModel",
      "state": {
       "_view_module": null,
       "_view_module_version": "",
       "row_end": 2,
       "row_start": 2,
       "type": "text",
       "value": "0.01"
      }
     },
     "87f3d0c1d9f24daaa0a58c4614cc8d7b": {
      "model_module": "@jupyter-widgets/base",
      "model_module_version": "1.2.0",
      "model_name": "LayoutModel",
      "state": {}
     },
     "88da541ac08a464e979e7dc381615ba5": {
      "model_module": "ipysheet",
      "model_module_version": "~0.5.0",
      "model_name": "CellRangeModel",
      "state": {
       "_view_module": null,
       "_view_module_version": "",
       "column_end": 3,
       "column_start": 3,
       "row_end": 2,
       "row_start": 2,
       "type": "text",
       "value": "0.02"
      }
     },
     "8bee94786180472099d2412cbdb1c9e4": {
      "model_module": "@jupyter-widgets/base",
      "model_module_version": "1.2.0",
      "model_name": "LayoutModel",
      "state": {}
     },
     "91fec58229c0412c9c65a3b4f1d067dd": {
      "model_module": "@jupyter-widgets/base",
      "model_module_version": "1.2.0",
      "model_name": "LayoutModel",
      "state": {}
     },
     "924330021f9b48f7bab494b74b806c1d": {
      "model_module": "@jupyter-widgets/base",
      "model_module_version": "1.2.0",
      "model_name": "LayoutModel",
      "state": {}
     },
     "98310417c6ff4b8585b1317f61f34ac0": {
      "model_module": "@jupyter-widgets/base",
      "model_module_version": "1.2.0",
      "model_name": "LayoutModel",
      "state": {}
     },
     "989ec163213343b88c23b6a381d00102": {
      "model_module": "@jupyter-widgets/controls",
      "model_module_version": "1.5.0",
      "model_name": "VBoxModel",
      "state": {
       "children": [
        "IPY_MODEL_ae9cf8f4a2d8409796bbe99c085bfd9b",
        "IPY_MODEL_11d286a49f2d4280b97432b455ad3a6b",
        "IPY_MODEL_e79b005477614692aa7069ac7042465e"
       ],
       "layout": "IPY_MODEL_8bee94786180472099d2412cbdb1c9e4"
      }
     },
     "a0e73b7605854cb1875d5c08b73d13ea": {
      "model_module": "@jupyter-widgets/controls",
      "model_module_version": "1.5.0",
      "model_name": "ButtonModel",
      "state": {
       "description": "Add Column",
       "layout": "IPY_MODEL_082ff5e64e6744899e8c5a09422147dd",
       "style": "IPY_MODEL_b07fc80e5cd64219910e8b6a9fe40d74"
      }
     },
     "a62f31c0f7f947d287f27aca7bfac15c": {
      "model_module": "ipysheet",
      "model_module_version": "~0.5.0",
      "model_name": "CellRangeModel",
      "state": {
       "_view_module": null,
       "_view_module_version": "",
       "column_end": 3,
       "column_start": 3,
       "row_end": 3,
       "row_start": 3,
       "type": "text",
       "value": "0.02"
      }
     },
     "a6e172d5a0c9445d8a45c4235af95de8": {
      "model_module": "@jupyter-widgets/controls",
      "model_module_version": "1.5.0",
      "model_name": "ButtonModel",
      "state": {
       "description": "Generate Vectors",
       "layout": "IPY_MODEL_91fec58229c0412c9c65a3b4f1d067dd",
       "style": "IPY_MODEL_6cb2d40aaead458fa0551afbd53603d7"
      }
     },
     "a7222945f983466ea817973346031221": {
      "model_module": "ipysheet",
      "model_module_version": "~0.5.0",
      "model_name": "CellRangeModel",
      "state": {
       "_view_module": null,
       "_view_module_version": "",
       "column_end": 3,
       "column_start": 3,
       "row_end": 6,
       "row_start": 6,
       "type": "text",
       "value": "0.03"
      }
     },
     "a985703b8c3d42dea2fc9e7f3e90776e": {
      "model_module": "ipysheet",
      "model_module_version": "~0.5.0",
      "model_name": "CellRangeModel",
      "state": {
       "_view_module": null,
       "_view_module_version": "",
       "column_end": 3,
       "column_start": 3,
       "row_end": 8,
       "row_start": 8,
       "type": "text",
       "value": "0.04"
      }
     },
     "ab2caf71afda4fd7a1af402f87b4da45": {
      "model_module": "ipysheet",
      "model_module_version": "~0.5.0",
      "model_name": "CellRangeModel",
      "state": {
       "_view_module": null,
       "_view_module_version": "",
       "column_end": 0,
       "column_start": 0,
       "row_end": 3,
       "row_start": 3,
       "type": "text",
       "value": ""
      }
     },
     "ac37467d95ac4e7e8ab0e479734e9571": {
      "model_module": "@jupyter-widgets/base",
      "model_module_version": "1.2.0",
      "model_name": "LayoutModel",
      "state": {
       "height": "auto",
       "width": "auto"
      }
     },
     "ae9cf8f4a2d8409796bbe99c085bfd9b": {
      "model_module": "ipysheet",
      "model_module_version": "~0.5.0",
      "model_name": "SheetModel",
      "state": {
       "cells": [
        "IPY_MODEL_3e78ff61d3d146dbbab2cb1f46e0892d",
        "IPY_MODEL_3a1240f355b94a039379a5ca20d07dd5",
        "IPY_MODEL_6245fe25066244bbbc8a15ccd4141fe4",
        "IPY_MODEL_df2c09544e9e40808df8bdf63c29440a",
        "IPY_MODEL_44c65767ec1b474092009196820e037d",
        "IPY_MODEL_e7bdf76ba49b4332a8926f83012c57eb",
        "IPY_MODEL_ab2caf71afda4fd7a1af402f87b4da45",
        "IPY_MODEL_eb263dda559d404e828966be413373fe"
       ],
       "column_headers": false,
       "columns": 2,
       "layout": "IPY_MODEL_c166b555b47148dd892bb46333200832",
       "row_headers": [
        "Variable:",
        "Units:",
        "0",
        "1"
       ],
       "rows": 4
      }
     },
     "b07fc80e5cd64219910e8b6a9fe40d74": {
      "model_module": "@jupyter-widgets/controls",
      "model_module_version": "1.5.0",
      "model_name": "ButtonStyleModel",
      "state": {}
     },
     "b570b478bf094e9395a7b33d4fb0bad3": {
      "model_module": "ipysheet",
      "model_module_version": "~0.5.0",
      "model_name": "CellRangeModel",
      "state": {
       "_view_module": null,
       "_view_module_version": "",
       "column_end": 0,
       "column_start": 0,
       "row_end": 6,
       "row_start": 6,
       "type": "text",
       "value": "0.40"
      }
     },
     "b571f912bc694c3ebf00ceb32826f374": {
      "model_module": "ipysheet",
      "model_module_version": "~0.5.0",
      "model_name": "CellRangeModel",
      "state": {
       "_view_module": null,
       "_view_module_version": "",
       "row_end": 8,
       "row_start": 8,
       "type": "text",
       "value": "0.01"
      }
     },
     "b9030a23a337418aabbb61351a56eb34": {
      "model_module": "@jupyter-widgets/controls",
      "model_module_version": "1.5.0",
      "model_name": "ButtonModel",
      "state": {
       "description": "Undo",
       "layout": "IPY_MODEL_73388aff57d74e07aeb3e92cb9a786fd",
       "style": "IPY_MODEL_f5b1ccfd1ef044269e38bd47ebf88f69"
      }
     },
     "bb2d617e59094171a3d16d711d795e3e": {
      "model_module": "@jupyter-widgets/controls",
      "model_module_version": "1.5.0",
      "model_name": "ButtonStyleModel",
      "state": {}
     },
     "bbb12c52ebd34e73a1be7bec984b9e12": {
      "model_module": "@jupyter-widgets/controls",
      "model_module_version": "1.5.0",
      "model_name": "HBoxModel",
      "state": {
       "children": [
        "IPY_MODEL_b9030a23a337418aabbb61351a56eb34",
        "IPY_MODEL_6633f955d9e946d7b4c10be2c01571e9",
        "IPY_MODEL_14e1e981b0604dd586ba43ef3818cfe9",
        "IPY_MODEL_31c18e6ce7db4509b9cbcdb6b7967c79",
        "IPY_MODEL_7c26cc616a5e4b668e4ffd229bd140c2"
       ],
       "layout": "IPY_MODEL_2737e462a5af465fbb58b210f9d97439"
      }
     },
     "bc5a02e66da74ed0b7ba85bef167c604": {
      "model_module": "ipysheet",
      "model_module_version": "~0.5.0",
      "model_name": "CellRangeModel",
      "state": {
       "_view_module": null,
       "_view_module_version": "",
       "row_end": 5,
       "row_start": 5,
       "type": "text",
       "value": "0.01"
      }
     },
     "bf269f931cd24af190cba9e14a4f0089": {
      "model_module": "ipysheet",
      "model_module_version": "~0.5.0",
      "model_name": "CellRangeModel",
      "state": {
       "_view_module": null,
       "_view_module_version": "",
       "column_end": 2,
       "column_start": 2,
       "row_end": 5,
       "row_start": 5,
       "type": "text",
       "value": "0.63"
      }
     },
     "bfc7a3aad0a94514b166f851fe50f80e": {
      "model_module": "ipysheet",
      "model_module_version": "~0.5.0",
      "model_name": "CellRangeModel",
      "state": {
       "_view_module": null,
       "_view_module_version": "",
       "column_end": 2,
       "column_start": 2,
       "row_end": 7,
       "row_start": 7,
       "type": "text",
       "value": "1.05"
      }
     },
     "c166b555b47148dd892bb46333200832": {
      "model_module": "@jupyter-widgets/base",
      "model_module_version": "1.2.0",
      "model_name": "LayoutModel",
      "state": {
       "height": "auto",
       "width": "auto"
      }
     },
     "c1e8539c03fa4795ab080be99f361548": {
      "model_module": "@jupyter-widgets/base",
      "model_module_version": "1.2.0",
      "model_name": "LayoutModel",
      "state": {}
     },
     "c424bd1150d54b629f45e310e6ec093d": {
      "model_module": "ipysheet",
      "model_module_version": "~0.5.0",
      "model_name": "CellRangeModel",
      "state": {
       "_view_module": null,
       "_view_module_version": "",
       "column_end": 2,
       "column_start": 2,
       "row_end": 0,
       "row_start": 0,
       "type": "text",
       "value": "F"
      }
     },
     "cbe898fd5cec498185198c72c16d5f6e": {
      "model_module": "@jupyter-widgets/controls",
      "model_module_version": "1.5.0",
      "model_name": "ButtonStyleModel",
      "state": {}
     },
     "cf2d89c6aa984d5cbdade32150879a97": {
      "model_module": "@jupyter-widgets/base",
      "model_module_version": "1.2.0",
      "model_name": "LayoutModel",
      "state": {}
     },
     "d50a14be92cd419889d6e15b9c6a899a": {
      "model_module": "ipysheet",
      "model_module_version": "~0.5.0",
      "model_name": "CellRangeModel",
      "state": {
       "_view_module": null,
       "_view_module_version": "",
       "column_end": 0,
       "column_start": 0,
       "row_end": 4,
       "row_start": 4,
       "type": "text",
       "value": "0.21"
      }
     },
     "df2c09544e9e40808df8bdf63c29440a": {
      "model_module": "ipysheet",
      "model_module_version": "~0.5.0",
      "model_name": "CellRangeModel",
      "state": {
       "_view_module": null,
       "_view_module_version": "",
       "type": "text",
       "value": ""
      }
     },
     "e017d43c8f2e4122a66a63c5ce1e125d": {
      "model_module": "ipysheet",
      "model_module_version": "~0.5.0",
      "model_name": "CellRangeModel",
      "state": {
       "_view_module": null,
       "_view_module_version": "",
       "column_end": 3,
       "column_start": 3,
       "row_end": 5,
       "row_start": 5,
       "type": "text",
       "value": "0.03"
      }
     },
     "e79b005477614692aa7069ac7042465e": {
      "model_module": "@jupyter-widgets/output",
      "model_module_version": "1.0.0",
      "model_name": "OutputModel",
      "state": {
       "layout": "IPY_MODEL_781056ba4f9c41be921343d9a1b6c483",
       "outputs": [
        {
         "name": "stdout",
         "output_type": "stream",
         "text": "Data vectors need to be updated\n"
        }
       ]
      }
     },
     "e7bdf76ba49b4332a8926f83012c57eb": {
      "model_module": "ipysheet",
      "model_module_version": "~0.5.0",
      "model_name": "CellRangeModel",
      "state": {
       "_view_module": null,
       "_view_module_version": "",
       "row_end": 2,
       "row_start": 2,
       "type": "text",
       "value": "5.8"
      }
     },
     "eb263dda559d404e828966be413373fe": {
      "model_module": "ipysheet",
      "model_module_version": "~0.5.0",
      "model_name": "CellRangeModel",
      "state": {
       "_view_module": null,
       "_view_module_version": "",
       "row_end": 3,
       "row_start": 3,
       "type": "text",
       "value": ""
      }
     },
     "eddd1ea30a374b47926e8cc92df81fc1": {
      "model_module": "ipysheet",
      "model_module_version": "~0.5.0",
      "model_name": "CellRangeModel",
      "state": {
       "_view_module": null,
       "_view_module_version": "",
       "column_end": 2,
       "column_start": 2,
       "row_end": 3,
       "row_start": 3,
       "type": "text",
       "value": "0.26"
      }
     },
     "f3f35c1b971b46e2bc47a2a945d5e20b": {
      "model_module": "@jupyter-widgets/base",
      "model_module_version": "1.2.0",
      "model_name": "LayoutModel",
      "state": {}
     },
     "f470a8d1ae944a4f99e0006fd15ff00e": {
      "model_module": "@jupyter-widgets/controls",
      "model_module_version": "1.5.0",
      "model_name": "ButtonStyleModel",
      "state": {}
     },
     "f5b1ccfd1ef044269e38bd47ebf88f69": {
      "model_module": "@jupyter-widgets/controls",
      "model_module_version": "1.5.0",
      "model_name": "ButtonStyleModel",
      "state": {}
     },
     "f9d5caa653ff40398ffa4fb58e58a20d": {
      "model_module": "@jupyter-widgets/controls",
      "model_module_version": "1.5.0",
      "model_name": "ButtonModel",
      "state": {
       "description": "Add Row",
       "layout": "IPY_MODEL_924330021f9b48f7bab494b74b806c1d",
       "style": "IPY_MODEL_68bae006e5134573aa2b5051cc7d7b96"
      }
     },
     "fa256eced04349f68c1b81eb2f191620": {
      "model_module": "ipysheet",
      "model_module_version": "~0.5.0",
      "model_name": "CellRangeModel",
      "state": {
       "_view_module": null,
       "_view_module_version": "",
       "column_end": 0,
       "column_start": 0,
       "type": "text",
       "value": "m"
      }
     }
    },
    "version_major": 2,
    "version_minor": 0
   }
  }
 },
 "nbformat": 4,
 "nbformat_minor": 5
}
