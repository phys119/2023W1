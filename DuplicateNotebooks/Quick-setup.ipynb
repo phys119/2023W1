{
 "cells": [
  {
   "cell_type": "markdown",
   "id": "38c874a6-cae3-4f94-931a-173155fa86d3",
   "metadata": {
    "tags": []
   },
   "source": [
    "# Quick setup and test"
   ]
  },
  {
   "cell_type": "markdown",
   "id": "a17e32ac-bb67-4311-ba68-aaf5766d1291",
   "metadata": {},
   "source": [
    "Here we'll recreate our environment and test it. Start by executing the cell below."
   ]
  },
  {
   "cell_type": "code",
   "execution_count": null,
   "id": "b0c6eb90-e1be-4585-92ab-60833be376de",
   "metadata": {},
   "outputs": [],
   "source": [
    "!pip install --user data_entry2"
   ]
  },
  {
   "cell_type": "markdown",
   "id": "053d69ca-d41d-407d-b772-ef5a47f51214",
   "metadata": {},
   "source": [
    "After executing the install command, you'll need to shut down the Jupyter server and restart it.\n",
    "Do this by:\n",
    "- Navigate to File->Hub Control Panel\n",
    "- Press Stop My Server\n",
    "- Wait for a minute or so till it is stopped\n",
    "- Restart the server \n",
    "- Navigate back into this document (2023W1/DuplicateNotebooks/Quick-setup \n",
    "- Execute the cells below"
   ]
  },
  {
   "cell_type": "code",
   "execution_count": null,
   "id": "68442067-7c79-417d-ba99-2902d0fe3392",
   "metadata": {},
   "outputs": [],
   "source": [
    "import numpy as np\n",
    "import data_entry2\n"
   ]
  },
  {
   "cell_type": "code",
   "execution_count": null,
   "id": "d4d6092f-f7a8-4337-a2ee-59a4922bedfc",
   "metadata": {},
   "outputs": [],
   "source": [
    "# this cell should generate a spreadsheet-like interface\n",
    "de1= data_entry2.sheet(\"test_sheet\")"
   ]
  },
  {
   "cell_type": "code",
   "execution_count": null,
   "id": "bd7aaaa1-650c-4b23-8833-80e2b6e87c2f",
   "metadata": {},
   "outputs": [],
   "source": []
  }
 ],
 "metadata": {
  "kernelspec": {
   "display_name": "Python 3 (ipykernel)",
   "language": "python",
   "name": "python3"
  },
  "language_info": {
   "codemirror_mode": {
    "name": "ipython",
    "version": 3
   },
   "file_extension": ".py",
   "mimetype": "text/x-python",
   "name": "python",
   "nbconvert_exporter": "python",
   "pygments_lexer": "ipython3",
   "version": "3.11.4"
  },
  "widgets": {
   "application/vnd.jupyter.widget-state+json": {
    "state": {
     "01c4552d9d2d437f860694aeeb32d231": {
      "model_module": "@jupyter-widgets/controls",
      "model_module_version": "2.0.0",
      "model_name": "ButtonStyleModel",
      "state": {
       "font_family": null,
       "font_size": null,
       "font_style": null,
       "font_variant": null,
       "font_weight": null,
       "text_color": null,
       "text_decoration": null
      }
     },
     "07f02fe9fad34dc6bcb2579218567058": {
      "model_module": "@jupyter-widgets/base",
      "model_module_version": "2.0.0",
      "model_name": "LayoutModel",
      "state": {}
     },
     "0a9a4ba70e044fb9b09064e76aab46b2": {
      "model_module": "@jupyter-widgets/controls",
      "model_module_version": "2.0.0",
      "model_name": "HBoxModel",
      "state": {
       "children": [
        "IPY_MODEL_b95e08819c894b988be56ffe7c448258",
        "IPY_MODEL_b0fd1c06e55d4f12a62704b57a59bfdf",
        "IPY_MODEL_294f4e2224de43daa31a2097984b6e9c",
        "IPY_MODEL_ce55c6ada5fa453c9e694ec8ecab3b2d",
        "IPY_MODEL_1c4b26b18678468eaf167c18b8cbd139"
       ],
       "layout": "IPY_MODEL_319e618805564a6391acea0b0d010dde"
      }
     },
     "1c4b26b18678468eaf167c18b8cbd139": {
      "model_module": "@jupyter-widgets/controls",
      "model_module_version": "2.0.0",
      "model_name": "ButtonModel",
      "state": {
       "description": "Generate Vectors",
       "layout": "IPY_MODEL_eac931640a0447d891fa2fd67543b173",
       "style": "IPY_MODEL_01c4552d9d2d437f860694aeeb32d231",
       "tooltip": null
      }
     },
     "294f4e2224de43daa31a2097984b6e9c": {
      "model_module": "@jupyter-widgets/controls",
      "model_module_version": "2.0.0",
      "model_name": "ButtonModel",
      "state": {
       "description": "Add Row",
       "layout": "IPY_MODEL_5a43747cbe2e4fac8702e04740acdff6",
       "style": "IPY_MODEL_85f279d19eb547e89a6448e7a202d590",
       "tooltip": null
      }
     },
     "319e618805564a6391acea0b0d010dde": {
      "model_module": "@jupyter-widgets/base",
      "model_module_version": "2.0.0",
      "model_name": "LayoutModel",
      "state": {}
     },
     "5022869b6c6146abbf068550bbc7907a": {
      "model_module": "@jupyter-widgets/controls",
      "model_module_version": "2.0.0",
      "model_name": "ButtonStyleModel",
      "state": {
       "font_family": null,
       "font_size": null,
       "font_style": null,
       "font_variant": null,
       "font_weight": null,
       "text_color": null,
       "text_decoration": null
      }
     },
     "5a43747cbe2e4fac8702e04740acdff6": {
      "model_module": "@jupyter-widgets/base",
      "model_module_version": "2.0.0",
      "model_name": "LayoutModel",
      "state": {}
     },
     "5b7e9854d8844285ba0e2acd6d5ecfef": {
      "model_module": "@jupyter-widgets/controls",
      "model_module_version": "2.0.0",
      "model_name": "ButtonStyleModel",
      "state": {
       "font_family": null,
       "font_size": null,
       "font_style": null,
       "font_variant": null,
       "font_weight": null,
       "text_color": null,
       "text_decoration": null
      }
     },
     "5c0c9c8ffc2c42008822286894b24402": {
      "model_module": "ipydatagrid",
      "model_module_version": "^1.1.13",
      "model_name": "DataGridModel",
      "state": {
       "_data": {
        "data": [
         {
          "0": "",
          "1": "",
          "2": "",
          "ipydguuid": 0,
          "key": "  Variable:"
         },
         {
          "0": "",
          "1": "",
          "2": "",
          "ipydguuid": 1,
          "key": " Units:"
         },
         {
          "0": "",
          "1": "",
          "2": "",
          "ipydguuid": 2,
          "key": 0
         },
         {
          "0": "",
          "1": "",
          "2": "",
          "ipydguuid": 3,
          "key": 1
         },
         {
          "0": "",
          "1": "",
          "2": "",
          "ipydguuid": 4,
          "key": 2
         },
         {
          "0": "",
          "1": "",
          "2": "",
          "ipydguuid": 5,
          "key": 3
         },
         {
          "0": "",
          "1": "",
          "2": "",
          "ipydguuid": 6,
          "key": 4
         },
         {
          "0": "",
          "1": "",
          "2": "",
          "ipydguuid": 7,
          "key": 5
         },
         {
          "0": "",
          "1": "",
          "2": "",
          "ipydguuid": 8,
          "key": 6
         },
         {
          "0": "",
          "1": "",
          "2": "",
          "ipydguuid": 9,
          "key": 7
         }
        ],
        "fields": [
         {
          "key": null
         },
         {
          "0": null
         },
         {
          "1": null
         },
         {
          "2": null
         },
         {
          "ipydguuid": null
         }
        ],
        "schema": {
         "fields": [
          {
           "name": "key",
           "type": "string"
          },
          {
           "name": 0,
           "type": "string"
          },
          {
           "name": 1,
           "type": "string"
          },
          {
           "name": 2,
           "type": "string"
          },
          {
           "name": "ipydguuid",
           "type": "integer"
          }
         ],
         "pandas_version": "1.4.0",
         "primaryKey": [
          "key",
          "ipydguuid"
         ],
         "primaryKeyUuid": "ipydguuid"
        }
       },
       "_model_module_version": "^1.1.13",
       "_model_name": "DataGridModel",
       "_view_module_version": "^1.1.13",
       "auto_fit_columns": false,
       "auto_fit_params": {
        "area": "all",
        "numCols": null,
        "padding": 30
       },
       "base_column_header_size": 20,
       "base_column_size": 64,
       "base_row_header_size": 64,
       "base_row_size": 20,
       "default_renderer": "IPY_MODEL_b53e671fc6514982bf21ed59e2b8424e",
       "editable": true,
       "header_visibility": "all",
       "layout": "IPY_MODEL_83c6192c03974b33a391a72d4c309f19",
       "selection_mode": "cell"
      }
     },
     "5eb9c159b8ce4cafbc1fab19f9d0b17c": {
      "model_module": "@jupyter-widgets/base",
      "model_module_version": "2.0.0",
      "model_name": "LayoutModel",
      "state": {}
     },
     "802aad155d374c96b537fbe503607b76": {
      "model_module": "ipydatagrid",
      "model_module_version": "^1.1.13",
      "model_name": "VegaExprModel",
      "state": {
       "_model_module_version": "^1.1.13",
       "_view_module": "ipydatagrid",
       "_view_module_version": "^1.1.13",
       "_view_name": "VegaExprView"
      }
     },
     "83c6192c03974b33a391a72d4c309f19": {
      "model_module": "@jupyter-widgets/base",
      "model_module_version": "2.0.0",
      "model_name": "LayoutModel",
      "state": {
       "height": "250px"
      }
     },
     "85f279d19eb547e89a6448e7a202d590": {
      "model_module": "@jupyter-widgets/controls",
      "model_module_version": "2.0.0",
      "model_name": "ButtonStyleModel",
      "state": {
       "font_family": null,
       "font_size": null,
       "font_style": null,
       "font_variant": null,
       "font_weight": null,
       "text_color": null,
       "text_decoration": null
      }
     },
     "8e9666a244594d21860fabc3ce9e3850": {
      "model_module": "@jupyter-widgets/controls",
      "model_module_version": "2.0.0",
      "model_name": "VBoxModel",
      "state": {
       "children": [
        "IPY_MODEL_0a9a4ba70e044fb9b09064e76aab46b2",
        "IPY_MODEL_5c0c9c8ffc2c42008822286894b24402",
        "IPY_MODEL_a4f224d3933440dc8258131ce526e4ec"
       ],
       "layout": "IPY_MODEL_91e9afefc0284924a8399298121fd6d1"
      }
     },
     "91e9afefc0284924a8399298121fd6d1": {
      "model_module": "@jupyter-widgets/base",
      "model_module_version": "2.0.0",
      "model_name": "LayoutModel",
      "state": {}
     },
     "a4f224d3933440dc8258131ce526e4ec": {
      "model_module": "@jupyter-widgets/output",
      "model_module_version": "1.0.0",
      "model_name": "OutputModel",
      "state": {
       "layout": "IPY_MODEL_07f02fe9fad34dc6bcb2579218567058"
      }
     },
     "ab262dcb902e4414a9f1a93ce5fd095c": {
      "model_module": "@jupyter-widgets/base",
      "model_module_version": "2.0.0",
      "model_name": "LayoutModel",
      "state": {}
     },
     "b0fd1c06e55d4f12a62704b57a59bfdf": {
      "model_module": "@jupyter-widgets/controls",
      "model_module_version": "2.0.0",
      "model_name": "ButtonModel",
      "state": {
       "description": "Redo",
       "layout": "IPY_MODEL_5eb9c159b8ce4cafbc1fab19f9d0b17c",
       "style": "IPY_MODEL_5022869b6c6146abbf068550bbc7907a",
       "tooltip": null
      }
     },
     "b4450461af2f48ed9fd6d25bcfd0aa93": {
      "model_module": "ipydatagrid",
      "model_module_version": "^1.1.13",
      "model_name": "VegaExprModel",
      "state": {
       "_model_module_version": "^1.1.13",
       "_view_module": "ipydatagrid",
       "_view_module_version": "^1.1.13",
       "_view_name": "VegaExprView"
      }
     },
     "b53e671fc6514982bf21ed59e2b8424e": {
      "model_module": "ipydatagrid",
      "model_module_version": "^1.1.13",
      "model_name": "TextRendererModel",
      "state": {
       "_model_module_version": "^1.1.13",
       "_view_module_version": "^1.1.13",
       "background_color": "IPY_MODEL_b4450461af2f48ed9fd6d25bcfd0aa93",
       "text_color": "IPY_MODEL_802aad155d374c96b537fbe503607b76"
      }
     },
     "b70ae646e8b847e8abb07e99a4f90283": {
      "model_module": "@jupyter-widgets/controls",
      "model_module_version": "2.0.0",
      "model_name": "ButtonStyleModel",
      "state": {
       "font_family": null,
       "font_size": null,
       "font_style": null,
       "font_variant": null,
       "font_weight": null,
       "text_color": null,
       "text_decoration": null
      }
     },
     "b95e08819c894b988be56ffe7c448258": {
      "model_module": "@jupyter-widgets/controls",
      "model_module_version": "2.0.0",
      "model_name": "ButtonModel",
      "state": {
       "description": "Undo",
       "layout": "IPY_MODEL_ddfba346485c4f03a9c16950e499926d",
       "style": "IPY_MODEL_5b7e9854d8844285ba0e2acd6d5ecfef",
       "tooltip": null
      }
     },
     "ce55c6ada5fa453c9e694ec8ecab3b2d": {
      "model_module": "@jupyter-widgets/controls",
      "model_module_version": "2.0.0",
      "model_name": "ButtonModel",
      "state": {
       "description": "Add Column",
       "layout": "IPY_MODEL_df32f91d6433493b9946b5b6bded879a",
       "style": "IPY_MODEL_b70ae646e8b847e8abb07e99a4f90283",
       "tooltip": null
      }
     },
     "ddfba346485c4f03a9c16950e499926d": {
      "model_module": "@jupyter-widgets/base",
      "model_module_version": "2.0.0",
      "model_name": "LayoutModel",
      "state": {}
     },
     "df32f91d6433493b9946b5b6bded879a": {
      "model_module": "@jupyter-widgets/base",
      "model_module_version": "2.0.0",
      "model_name": "LayoutModel",
      "state": {}
     },
     "eac931640a0447d891fa2fd67543b173": {
      "model_module": "@jupyter-widgets/base",
      "model_module_version": "2.0.0",
      "model_name": "LayoutModel",
      "state": {}
     }
    },
    "version_major": 2,
    "version_minor": 0
   }
  }
 },
 "nbformat": 4,
 "nbformat_minor": 5
}
